{
 "cells": [
  {
   "cell_type": "markdown",
   "id": "bb6b542f",
   "metadata": {},
   "source": [
    "# Setup"
   ]
  },
  {
   "cell_type": "code",
   "execution_count": 1,
   "id": "a478ba45",
   "metadata": {},
   "outputs": [],
   "source": [
    "# import common libraries\n",
    "import pandas as pd\n",
    "import numpy as np\n",
    "import matplotlib.pyplot as plt\n",
    "import seaborn as sns\n",
    "\n",
    "# import specific components from scikit-learn\n",
    "from sklearn.model_selection import train_test_split\n",
    "from sklearn.linear_model import LinearRegression\n",
    "from sklearn.metrics import mean_absolute_error, mean_squared_error, r2_score\n",
    "\n",
    "# enhanced stats functions\n",
    "from scipy import stats\n",
    "\n",
    "# for ease of data profiling\n",
    "from pandas_profiling import ProfileReport"
   ]
  },
  {
   "cell_type": "code",
   "execution_count": 2,
   "id": "7fc8edbf",
   "metadata": {
    "scrolled": false
   },
   "outputs": [
    {
     "name": "stdout",
     "output_type": "stream",
     "text": [
      "pandas version  : 1.3.5\n",
      "numpy version   : 1.18.1\n",
      "seaborn version : 0.11.2\n"
     ]
    }
   ],
   "source": [
    "# print environment setup details\n",
    "print(f\"pandas version  : {pd.__version__}\")  # 1.4.3\n",
    "print(f\"numpy version   : {np.__version__}\")  # 1.23.1\n",
    "print(f\"seaborn version : {sns.__version__}\") # 0.11.2"
   ]
  },
  {
   "cell_type": "markdown",
   "id": "b31621c8",
   "metadata": {},
   "source": [
    "Here, we also set the seed for numpy's random number generator such that our results are fully reproducible. This is because the other libraries (e.g. scikit-learn) use this random number generator, so if we set the seed we will always generate the same random numbers in the same sequence.\n",
    "\n",
    "Thus, whenever we run the notebook from top-to-bottom, we will end up with the *exact* same results! "
   ]
  },
  {
   "cell_type": "code",
   "execution_count": 3,
   "id": "15c8144d",
   "metadata": {},
   "outputs": [],
   "source": [
    "SEED = 123\n",
    "np.random.seed(SEED)"
   ]
  },
  {
   "cell_type": "markdown",
   "id": "a350d6ac",
   "metadata": {},
   "source": [
    "# Data Loading\n",
    "To load in the data for this project, read in `insurance.csv` into a variable called `df` as a pandas DataFrame. The first two rows of the DataFrame should look like this:\n",
    "\n",
    "|       | age | sex     | bmi    | children | smoker | region    | charges     |\n",
    "| ----- | --- | ------- | ------ | -------- | ------ | --------- | ----------- |\n",
    "| **0** | 19  | female  | 27.900 | 0        | yes    | southwest | 16884.92400 |\n",
    "| **1** | 18  | male    | 33.770 | 1        | no     | southeast | 1725.55230  |"
   ]
  },
  {
   "cell_type": "code",
   "execution_count": 4,
   "id": "7cef3385",
   "metadata": {},
   "outputs": [],
   "source": [
    "# read in data\n",
    "df = pd.read_csv('insurance.csv')"
   ]
  },
  {
   "cell_type": "code",
   "execution_count": 5,
   "id": "c7b56d24",
   "metadata": {},
   "outputs": [
    {
     "data": {
      "text/html": [
       "<div>\n",
       "<style scoped>\n",
       "    .dataframe tbody tr th:only-of-type {\n",
       "        vertical-align: middle;\n",
       "    }\n",
       "\n",
       "    .dataframe tbody tr th {\n",
       "        vertical-align: top;\n",
       "    }\n",
       "\n",
       "    .dataframe thead th {\n",
       "        text-align: right;\n",
       "    }\n",
       "</style>\n",
       "<table border=\"1\" class=\"dataframe\">\n",
       "  <thead>\n",
       "    <tr style=\"text-align: right;\">\n",
       "      <th></th>\n",
       "      <th>age</th>\n",
       "      <th>sex</th>\n",
       "      <th>bmi</th>\n",
       "      <th>children</th>\n",
       "      <th>smoker</th>\n",
       "      <th>region</th>\n",
       "      <th>charges</th>\n",
       "    </tr>\n",
       "  </thead>\n",
       "  <tbody>\n",
       "    <tr>\n",
       "      <th>0</th>\n",
       "      <td>19</td>\n",
       "      <td>female</td>\n",
       "      <td>27.90</td>\n",
       "      <td>0</td>\n",
       "      <td>yes</td>\n",
       "      <td>southwest</td>\n",
       "      <td>16884.9240</td>\n",
       "    </tr>\n",
       "    <tr>\n",
       "      <th>1</th>\n",
       "      <td>18</td>\n",
       "      <td>male</td>\n",
       "      <td>33.77</td>\n",
       "      <td>1</td>\n",
       "      <td>no</td>\n",
       "      <td>southeast</td>\n",
       "      <td>1725.5523</td>\n",
       "    </tr>\n",
       "  </tbody>\n",
       "</table>\n",
       "</div>"
      ],
      "text/plain": [
       "   age     sex    bmi  children smoker     region     charges\n",
       "0   19  female  27.90         0    yes  southwest  16884.9240\n",
       "1   18    male  33.77         1     no  southeast   1725.5523"
      ]
     },
     "execution_count": 5,
     "metadata": {},
     "output_type": "execute_result"
    }
   ],
   "source": [
    "# make sure data was read in properly and matches above table\n",
    "df.head(2)"
   ]
  },
  {
   "cell_type": "markdown",
   "id": "f036976a",
   "metadata": {},
   "source": [
    "# EDA\n",
    "Now it is time for you to practice your EDA skills! Take a look at the Quest 2 Quiz, and answer the first 5 questions on the results of your EDA on the dataset.\n",
    "\n",
    "**Data dictionary**\n",
    "\n",
    "| column | data definition | \n",
    "| --- | --- | \n",
    "| age | age of insured person | \n",
    "| sex | sex of insured person, either male or female | \n",
    "| bmi | body mass index of insured person |\n",
    "| children | number of dependents covered by health insurance |\n",
    "| smoker | does the insured person smoke? |\n",
    "| region | the insured person's residential area within the US |\n",
    "| charges | medical costs billed by health insurance; target variable |\n",
    "\n",
    "For additional information, check the dataset's [information on Kaggle](https://www.kaggle.com/datasets/mirichoi0218/insurance)."
   ]
  },
  {
   "cell_type": "code",
   "execution_count": 6,
   "id": "db665e03",
   "metadata": {},
   "outputs": [
    {
     "data": {
      "application/vnd.jupyter.widget-view+json": {
       "model_id": "b67830ea4d264f26898f3e3b42842ba8",
       "version_major": 2,
       "version_minor": 0
      },
      "text/plain": [
       "Summarize dataset:   0%|          | 0/5 [00:00<?, ?it/s]"
      ]
     },
     "metadata": {},
     "output_type": "display_data"
    },
    {
     "data": {
      "application/vnd.jupyter.widget-view+json": {
       "model_id": "f2b154f1cbe646eb97041d91ac4aef77",
       "version_major": 2,
       "version_minor": 0
      },
      "text/plain": [
       "Generate report structure:   0%|          | 0/1 [00:00<?, ?it/s]"
      ]
     },
     "metadata": {},
     "output_type": "display_data"
    },
    {
     "data": {
      "application/vnd.jupyter.widget-view+json": {
       "model_id": "bc54811ffd2f4d7ea74c4cd78d6172c5",
       "version_major": 2,
       "version_minor": 0
      },
      "text/plain": [
       "Render HTML:   0%|          | 0/1 [00:00<?, ?it/s]"
      ]
     },
     "metadata": {},
     "output_type": "display_data"
    },
    {
     "data": {
      "application/vnd.jupyter.widget-view+json": {
       "model_id": "248d33d1ffe74e84a02ea877f148b3bd",
       "version_major": 2,
       "version_minor": 0
      },
      "text/plain": [
       "Export report to file:   0%|          | 0/1 [00:00<?, ?it/s]"
      ]
     },
     "metadata": {},
     "output_type": "display_data"
    }
   ],
   "source": [
    "# optional: use pandas-profiling to do quick first pass at EDA\n",
    "profile = ProfileReport(df, title=\"Insurance Dataset Profiling Report\")\n",
    "# create html file to view report\n",
    "profile.to_file(\"insurance_dataset_report.html\")"
   ]
  },
  {
   "cell_type": "code",
   "execution_count": 7,
   "id": "73741f16",
   "metadata": {},
   "outputs": [
    {
     "data": {
      "text/html": [
       "<div>\n",
       "<style scoped>\n",
       "    .dataframe tbody tr th:only-of-type {\n",
       "        vertical-align: middle;\n",
       "    }\n",
       "\n",
       "    .dataframe tbody tr th {\n",
       "        vertical-align: top;\n",
       "    }\n",
       "\n",
       "    .dataframe thead th {\n",
       "        text-align: right;\n",
       "    }\n",
       "</style>\n",
       "<table border=\"1\" class=\"dataframe\">\n",
       "  <thead>\n",
       "    <tr style=\"text-align: right;\">\n",
       "      <th></th>\n",
       "      <th>age</th>\n",
       "      <th>bmi</th>\n",
       "      <th>children</th>\n",
       "      <th>charges</th>\n",
       "    </tr>\n",
       "  </thead>\n",
       "  <tbody>\n",
       "    <tr>\n",
       "      <th>count</th>\n",
       "      <td>1338.000000</td>\n",
       "      <td>1338.000000</td>\n",
       "      <td>1338.000000</td>\n",
       "      <td>1338.000000</td>\n",
       "    </tr>\n",
       "    <tr>\n",
       "      <th>mean</th>\n",
       "      <td>39.207025</td>\n",
       "      <td>30.663397</td>\n",
       "      <td>1.094918</td>\n",
       "      <td>13270.422265</td>\n",
       "    </tr>\n",
       "    <tr>\n",
       "      <th>std</th>\n",
       "      <td>14.049960</td>\n",
       "      <td>6.098187</td>\n",
       "      <td>1.205493</td>\n",
       "      <td>12110.011237</td>\n",
       "    </tr>\n",
       "    <tr>\n",
       "      <th>min</th>\n",
       "      <td>18.000000</td>\n",
       "      <td>15.960000</td>\n",
       "      <td>0.000000</td>\n",
       "      <td>1121.873900</td>\n",
       "    </tr>\n",
       "    <tr>\n",
       "      <th>25%</th>\n",
       "      <td>27.000000</td>\n",
       "      <td>26.296250</td>\n",
       "      <td>0.000000</td>\n",
       "      <td>4740.287150</td>\n",
       "    </tr>\n",
       "    <tr>\n",
       "      <th>50%</th>\n",
       "      <td>39.000000</td>\n",
       "      <td>30.400000</td>\n",
       "      <td>1.000000</td>\n",
       "      <td>9382.033000</td>\n",
       "    </tr>\n",
       "    <tr>\n",
       "      <th>75%</th>\n",
       "      <td>51.000000</td>\n",
       "      <td>34.693750</td>\n",
       "      <td>2.000000</td>\n",
       "      <td>16639.912515</td>\n",
       "    </tr>\n",
       "    <tr>\n",
       "      <th>max</th>\n",
       "      <td>64.000000</td>\n",
       "      <td>53.130000</td>\n",
       "      <td>5.000000</td>\n",
       "      <td>63770.428010</td>\n",
       "    </tr>\n",
       "  </tbody>\n",
       "</table>\n",
       "</div>"
      ],
      "text/plain": [
       "               age          bmi     children       charges\n",
       "count  1338.000000  1338.000000  1338.000000   1338.000000\n",
       "mean     39.207025    30.663397     1.094918  13270.422265\n",
       "std      14.049960     6.098187     1.205493  12110.011237\n",
       "min      18.000000    15.960000     0.000000   1121.873900\n",
       "25%      27.000000    26.296250     0.000000   4740.287150\n",
       "50%      39.000000    30.400000     1.000000   9382.033000\n",
       "75%      51.000000    34.693750     2.000000  16639.912515\n",
       "max      64.000000    53.130000     5.000000  63770.428010"
      ]
     },
     "execution_count": 7,
     "metadata": {},
     "output_type": "execute_result"
    }
   ],
   "source": [
    "# conduct any other EDA that you need to in order to get a good feel for the data\n",
    "df.describe()"
   ]
  },
  {
   "cell_type": "markdown",
   "id": "70f9aaa8",
   "metadata": {},
   "source": [
    "With the EDA you have conducted, answer the following questions from the quiz. Note that these questions do not cover everything you should be looking for when doing EDA, they are just to give you an idea of what EDA would look like on such a dataset.\n",
    "## Question 1\n",
    "What is the median age of the individuals in our dataset?"
   ]
  },
  {
   "cell_type": "code",
   "execution_count": 8,
   "id": "2e62c0a2",
   "metadata": {},
   "outputs": [
    {
     "data": {
      "text/plain": [
       "39.0"
      ]
     },
     "execution_count": 8,
     "metadata": {},
     "output_type": "execute_result"
    }
   ],
   "source": [
    "# calculate median age\n",
    "df.age.median()"
   ]
  },
  {
   "cell_type": "markdown",
   "id": "c44b7ca6",
   "metadata": {},
   "source": [
    "## Question 2\n",
    "What is the index of the person who has the highest BMI?"
   ]
  },
  {
   "cell_type": "code",
   "execution_count": 9,
   "id": "09365f4b",
   "metadata": {},
   "outputs": [
    {
     "data": {
      "text/plain": [
       "1317    53.130\n",
       "1047    52.580\n",
       "847     50.380\n",
       "116     49.060\n",
       "286     48.070\n",
       "         ...  \n",
       "1286    17.290\n",
       "412     17.195\n",
       "1226    16.815\n",
       "428     16.815\n",
       "172     15.960\n",
       "Name: bmi, Length: 1338, dtype: float64"
      ]
     },
     "execution_count": 9,
     "metadata": {},
     "output_type": "execute_result"
    }
   ],
   "source": [
    "# find index of person with highest BMI\n",
    "df.bmi.sort_values(ascending=False)"
   ]
  },
  {
   "cell_type": "markdown",
   "id": "bccf2b98",
   "metadata": {},
   "source": [
    "## Question 3\n",
    "Which two independent numeric variables (excluding categorical and dummy variables) are most highly correlated with each other?"
   ]
  },
  {
   "cell_type": "code",
   "execution_count": 10,
   "id": "5ef19dd7",
   "metadata": {},
   "outputs": [
    {
     "data": {
      "text/html": [
       "<div>\n",
       "<style scoped>\n",
       "    .dataframe tbody tr th:only-of-type {\n",
       "        vertical-align: middle;\n",
       "    }\n",
       "\n",
       "    .dataframe tbody tr th {\n",
       "        vertical-align: top;\n",
       "    }\n",
       "\n",
       "    .dataframe thead th {\n",
       "        text-align: right;\n",
       "    }\n",
       "</style>\n",
       "<table border=\"1\" class=\"dataframe\">\n",
       "  <thead>\n",
       "    <tr style=\"text-align: right;\">\n",
       "      <th></th>\n",
       "      <th>age</th>\n",
       "      <th>bmi</th>\n",
       "      <th>children</th>\n",
       "      <th>charges</th>\n",
       "    </tr>\n",
       "  </thead>\n",
       "  <tbody>\n",
       "    <tr>\n",
       "      <th>age</th>\n",
       "      <td>1.000000</td>\n",
       "      <td>0.109272</td>\n",
       "      <td>0.042469</td>\n",
       "      <td>0.299008</td>\n",
       "    </tr>\n",
       "    <tr>\n",
       "      <th>bmi</th>\n",
       "      <td>0.109272</td>\n",
       "      <td>1.000000</td>\n",
       "      <td>0.012759</td>\n",
       "      <td>0.198341</td>\n",
       "    </tr>\n",
       "    <tr>\n",
       "      <th>children</th>\n",
       "      <td>0.042469</td>\n",
       "      <td>0.012759</td>\n",
       "      <td>1.000000</td>\n",
       "      <td>0.067998</td>\n",
       "    </tr>\n",
       "    <tr>\n",
       "      <th>charges</th>\n",
       "      <td>0.299008</td>\n",
       "      <td>0.198341</td>\n",
       "      <td>0.067998</td>\n",
       "      <td>1.000000</td>\n",
       "    </tr>\n",
       "  </tbody>\n",
       "</table>\n",
       "</div>"
      ],
      "text/plain": [
       "               age       bmi  children   charges\n",
       "age       1.000000  0.109272  0.042469  0.299008\n",
       "bmi       0.109272  1.000000  0.012759  0.198341\n",
       "children  0.042469  0.012759  1.000000  0.067998\n",
       "charges   0.299008  0.198341  0.067998  1.000000"
      ]
     },
     "execution_count": 10,
     "metadata": {},
     "output_type": "execute_result"
    }
   ],
   "source": [
    "# plot correlation heatmap\n",
    "df.corr()"
   ]
  },
  {
   "cell_type": "markdown",
   "id": "1a1788b6",
   "metadata": {},
   "source": [
    "## Question 4\n",
    "What is the distribution of the `charges` variable in our dataset?"
   ]
  },
  {
   "cell_type": "code",
   "execution_count": 11,
   "id": "92d8e2b0",
   "metadata": {},
   "outputs": [
    {
     "data": {
      "image/png": "[encoded data removed]",
      "text/plain": [
       "<Figure size 2000x1500 with 3 Axes>"
      ]
     },
     "metadata": {},
     "output_type": "display_data"
    }
   ],
   "source": [
    "# plot distribution of charges\n",
    "plt.figure (figsize=(20,15))\n",
    "plt.subplot(3,3,1)\n",
    "plt.hist(df.bmi, color='lightblue', edgecolor='black', alpha = 0.7)\n",
    "plt.xlabel('bmi')\n",
    "\n",
    "plt.subplot(3,3,2)\n",
    "plt.hist(df.age, color='lightblue', edgecolor='black', alpha = 0.7)\n",
    "plt.xlabel('bmi')\n",
    "\n",
    "plt.subplot(3,3,3)\n",
    "plt.hist(df.age, color='lightblue', edgecolor='black', alpha = 0.7)\n",
    "plt.xlabel('charges')\n",
    "\n",
    "plt.show()"
   ]
  },
  {
   "cell_type": "markdown",
   "id": "f484be7a",
   "metadata": {},
   "source": [
    "That's strange, that doesn't look like our data is normally distributed. While you can theoretically still apply linear regression to a distribution which isn't normally distributed, it's generally best practice for your data to be normal. Looks like we may need to transform our data in some way in order to get it closer to a normal distribution.\n",
    "\n",
    "Create a new column in df, `log_charges`, by taking the log of the existing `charges` column. Then, drop the `charges` column. Your first two rows should now look like:\n",
    "\n",
    "|       | age | sex     | bmi    | children | smoker | region    | log_charges |\n",
    "| ----- | --- | ------- | ------ | -------- | ------ | --------- | ----------- |\n",
    "| **0** | 19  | female  | 27.900 | 0        | yes    | southwest | 9.734176    |\n",
    "| **1** | 18  | male    | 33.770 | 1        | no     | southeast | 7.453302    |"
   ]
  },
  {
   "cell_type": "code",
   "execution_count": 12,
   "id": "d00b7646",
   "metadata": {},
   "outputs": [],
   "source": [
    "# take log of charges, then drop old column\n",
    "df[\"log_charges\"] = np.log(df['charges'])\n",
    "df.drop(columns='charges', inplace=True)"
   ]
  },
  {
   "cell_type": "code",
   "execution_count": 13,
   "id": "4502e547",
   "metadata": {},
   "outputs": [
    {
     "data": {
      "text/html": [
       "<div>\n",
       "<style scoped>\n",
       "    .dataframe tbody tr th:only-of-type {\n",
       "        vertical-align: middle;\n",
       "    }\n",
       "\n",
       "    .dataframe tbody tr th {\n",
       "        vertical-align: top;\n",
       "    }\n",
       "\n",
       "    .dataframe thead th {\n",
       "        text-align: right;\n",
       "    }\n",
       "</style>\n",
       "<table border=\"1\" class=\"dataframe\">\n",
       "  <thead>\n",
       "    <tr style=\"text-align: right;\">\n",
       "      <th></th>\n",
       "      <th>age</th>\n",
       "      <th>sex</th>\n",
       "      <th>bmi</th>\n",
       "      <th>children</th>\n",
       "      <th>smoker</th>\n",
       "      <th>region</th>\n",
       "      <th>log_charges</th>\n",
       "    </tr>\n",
       "  </thead>\n",
       "  <tbody>\n",
       "    <tr>\n",
       "      <th>0</th>\n",
       "      <td>19</td>\n",
       "      <td>female</td>\n",
       "      <td>27.90</td>\n",
       "      <td>0</td>\n",
       "      <td>yes</td>\n",
       "      <td>southwest</td>\n",
       "      <td>9.734176</td>\n",
       "    </tr>\n",
       "    <tr>\n",
       "      <th>1</th>\n",
       "      <td>18</td>\n",
       "      <td>male</td>\n",
       "      <td>33.77</td>\n",
       "      <td>1</td>\n",
       "      <td>no</td>\n",
       "      <td>southeast</td>\n",
       "      <td>7.453302</td>\n",
       "    </tr>\n",
       "  </tbody>\n",
       "</table>\n",
       "</div>"
      ],
      "text/plain": [
       "   age     sex    bmi  children smoker     region  log_charges\n",
       "0   19  female  27.90         0    yes  southwest     9.734176\n",
       "1   18    male  33.77         1     no  southeast     7.453302"
      ]
     },
     "execution_count": 13,
     "metadata": {},
     "output_type": "execute_result"
    }
   ],
   "source": [
    "# check if your table matches the one above\n",
    "df.head(2)"
   ]
  },
  {
   "cell_type": "markdown",
   "id": "a879ebe3",
   "metadata": {},
   "source": [
    "Great, now plot the new distribution to see whether it's a normal distribution."
   ]
  },
  {
   "cell_type": "code",
   "execution_count": 14,
   "id": "f9b78c19",
   "metadata": {},
   "outputs": [
    {
     "data": {
      "image/png": "[encoded data removed]",
      "text/plain": [
       "<Figure size 2000x1500 with 1 Axes>"
      ]
     },
     "metadata": {},
     "output_type": "display_data"
    }
   ],
   "source": [
    "# plot distribution for log_charges\n",
    "plt.figure(figsize=(20,15))\n",
    "plt.subplot(3,3,1)\n",
    "plt.hist(df.log_charges, color='lightblue', edgecolor='black', alpha = 0.7)\n",
    "plt.xlabel('log_charges')\n",
    "\n",
    "plt.show()"
   ]
  },
  {
   "cell_type": "markdown",
   "id": "b521aec7",
   "metadata": {},
   "source": [
    "Note that even after log transforming our data, it is still not normally distributed. But it is now closer to a normal distribution than the data originally was, so we can continue on with our analysis using this new variable `log_charges` variable as our target variable instead!\n",
    "\n",
    "### Optional exploration\n",
    "Are there other ways of determining whether the data is normally distributed or not, besides looking at the above plot? Hint: they're in the stats package we already imported from scipy!"
   ]
  },
  {
   "cell_type": "markdown",
   "id": "98afb223",
   "metadata": {},
   "source": [
    "## Question 5\n",
    "There are two rows which are identical to each other; what are their indexes?"
   ]
  },
  {
   "cell_type": "code",
   "execution_count": 15,
   "id": "ca56da3e",
   "metadata": {},
   "outputs": [
    {
     "name": "stdout",
     "output_type": "stream",
     "text": [
      "[(195, 581)]\n"
     ]
    }
   ],
   "source": [
    "#find indexes of duplicated rows\n",
    "df2 = df[df.duplicated(keep=False)]\n",
    "df2 = df2.groupby(list(df)).apply(lambda x : tuple(x.index)).tolist()\n",
    "print(df2)"
   ]
  },
  {
   "cell_type": "markdown",
   "id": "a8c3de18",
   "metadata": {},
   "source": [
    "# Data Wrangling\n",
    "Now that we have an idea of what our data looks like, we need to start preparing it for modelling.\n",
    "\n",
    "In this case, we don't have any missing data, so we don't need to do anything about that. We have one duplicated row, but that seems to be legitimate data, so we will keep it in. \n",
    "\n",
    "We have 3 categorical variables - sex, smoker, and region. Get dummy variables using pandas, ensuring to use the `drop_first=True` argument to mitigate possible multicollinearity issues. As a result, you should only have one dummy variable for binary values such as `sex` or `smoker`. "
   ]
  },
  {
   "cell_type": "code",
   "execution_count": 16,
   "id": "a889781a",
   "metadata": {},
   "outputs": [],
   "source": [
    "# get dummies for sex, smoker, and region\n",
    "df = pd.get_dummies(df,columns=['sex','smoker', 'region'])"
   ]
  },
  {
   "cell_type": "code",
   "execution_count": 17,
   "id": "6f758655",
   "metadata": {},
   "outputs": [
    {
     "data": {
      "text/html": [
       "<div>\n",
       "<style scoped>\n",
       "    .dataframe tbody tr th:only-of-type {\n",
       "        vertical-align: middle;\n",
       "    }\n",
       "\n",
       "    .dataframe tbody tr th {\n",
       "        vertical-align: top;\n",
       "    }\n",
       "\n",
       "    .dataframe thead th {\n",
       "        text-align: right;\n",
       "    }\n",
       "</style>\n",
       "<table border=\"1\" class=\"dataframe\">\n",
       "  <thead>\n",
       "    <tr style=\"text-align: right;\">\n",
       "      <th></th>\n",
       "      <th>age</th>\n",
       "      <th>bmi</th>\n",
       "      <th>children</th>\n",
       "      <th>log_charges</th>\n",
       "      <th>sex_female</th>\n",
       "      <th>sex_male</th>\n",
       "      <th>smoker_no</th>\n",
       "      <th>smoker_yes</th>\n",
       "      <th>region_northeast</th>\n",
       "      <th>region_northwest</th>\n",
       "      <th>region_southeast</th>\n",
       "      <th>region_southwest</th>\n",
       "    </tr>\n",
       "  </thead>\n",
       "  <tbody>\n",
       "    <tr>\n",
       "      <th>0</th>\n",
       "      <td>19</td>\n",
       "      <td>27.900</td>\n",
       "      <td>0</td>\n",
       "      <td>9.734176</td>\n",
       "      <td>1</td>\n",
       "      <td>0</td>\n",
       "      <td>0</td>\n",
       "      <td>1</td>\n",
       "      <td>0</td>\n",
       "      <td>0</td>\n",
       "      <td>0</td>\n",
       "      <td>1</td>\n",
       "    </tr>\n",
       "    <tr>\n",
       "      <th>1</th>\n",
       "      <td>18</td>\n",
       "      <td>33.770</td>\n",
       "      <td>1</td>\n",
       "      <td>7.453302</td>\n",
       "      <td>0</td>\n",
       "      <td>1</td>\n",
       "      <td>1</td>\n",
       "      <td>0</td>\n",
       "      <td>0</td>\n",
       "      <td>0</td>\n",
       "      <td>1</td>\n",
       "      <td>0</td>\n",
       "    </tr>\n",
       "    <tr>\n",
       "      <th>2</th>\n",
       "      <td>28</td>\n",
       "      <td>33.000</td>\n",
       "      <td>3</td>\n",
       "      <td>8.400538</td>\n",
       "      <td>0</td>\n",
       "      <td>1</td>\n",
       "      <td>1</td>\n",
       "      <td>0</td>\n",
       "      <td>0</td>\n",
       "      <td>0</td>\n",
       "      <td>1</td>\n",
       "      <td>0</td>\n",
       "    </tr>\n",
       "    <tr>\n",
       "      <th>3</th>\n",
       "      <td>33</td>\n",
       "      <td>22.705</td>\n",
       "      <td>0</td>\n",
       "      <td>9.998092</td>\n",
       "      <td>0</td>\n",
       "      <td>1</td>\n",
       "      <td>1</td>\n",
       "      <td>0</td>\n",
       "      <td>0</td>\n",
       "      <td>1</td>\n",
       "      <td>0</td>\n",
       "      <td>0</td>\n",
       "    </tr>\n",
       "    <tr>\n",
       "      <th>4</th>\n",
       "      <td>32</td>\n",
       "      <td>28.880</td>\n",
       "      <td>0</td>\n",
       "      <td>8.260197</td>\n",
       "      <td>0</td>\n",
       "      <td>1</td>\n",
       "      <td>1</td>\n",
       "      <td>0</td>\n",
       "      <td>0</td>\n",
       "      <td>1</td>\n",
       "      <td>0</td>\n",
       "      <td>0</td>\n",
       "    </tr>\n",
       "  </tbody>\n",
       "</table>\n",
       "</div>"
      ],
      "text/plain": [
       "   age     bmi  children  log_charges  sex_female  sex_male  smoker_no  \\\n",
       "0   19  27.900         0     9.734176           1         0          0   \n",
       "1   18  33.770         1     7.453302           0         1          1   \n",
       "2   28  33.000         3     8.400538           0         1          1   \n",
       "3   33  22.705         0     9.998092           0         1          1   \n",
       "4   32  28.880         0     8.260197           0         1          1   \n",
       "\n",
       "   smoker_yes  region_northeast  region_northwest  region_southeast  \\\n",
       "0           1                 0                 0                 0   \n",
       "1           0                 0                 0                 1   \n",
       "2           0                 0                 0                 1   \n",
       "3           0                 0                 1                 0   \n",
       "4           0                 0                 1                 0   \n",
       "\n",
       "   region_southwest  \n",
       "0                 1  \n",
       "1                 0  \n",
       "2                 0  \n",
       "3                 0  \n",
       "4                 0  "
      ]
     },
     "execution_count": 17,
     "metadata": {},
     "output_type": "execute_result"
    }
   ],
   "source": [
    "df.head()"
   ]
  },
  {
   "cell_type": "code",
   "execution_count": 18,
   "id": "2c2387af",
   "metadata": {},
   "outputs": [],
   "source": [
    "df.drop(columns=['sex_female','smoker_no','region_northeast'], inplace=True)"
   ]
  },
  {
   "cell_type": "code",
   "execution_count": 19,
   "id": "b32c737c",
   "metadata": {},
   "outputs": [
    {
     "data": {
      "text/html": [
       "<div>\n",
       "<style scoped>\n",
       "    .dataframe tbody tr th:only-of-type {\n",
       "        vertical-align: middle;\n",
       "    }\n",
       "\n",
       "    .dataframe tbody tr th {\n",
       "        vertical-align: top;\n",
       "    }\n",
       "\n",
       "    .dataframe thead th {\n",
       "        text-align: right;\n",
       "    }\n",
       "</style>\n",
       "<table border=\"1\" class=\"dataframe\">\n",
       "  <thead>\n",
       "    <tr style=\"text-align: right;\">\n",
       "      <th></th>\n",
       "      <th>age</th>\n",
       "      <th>bmi</th>\n",
       "      <th>children</th>\n",
       "      <th>log_charges</th>\n",
       "      <th>sex_male</th>\n",
       "      <th>smoker_yes</th>\n",
       "      <th>region_northwest</th>\n",
       "      <th>region_southeast</th>\n",
       "      <th>region_southwest</th>\n",
       "    </tr>\n",
       "  </thead>\n",
       "  <tbody>\n",
       "    <tr>\n",
       "      <th>0</th>\n",
       "      <td>19</td>\n",
       "      <td>27.900</td>\n",
       "      <td>0</td>\n",
       "      <td>9.734176</td>\n",
       "      <td>0</td>\n",
       "      <td>1</td>\n",
       "      <td>0</td>\n",
       "      <td>0</td>\n",
       "      <td>1</td>\n",
       "    </tr>\n",
       "    <tr>\n",
       "      <th>1</th>\n",
       "      <td>18</td>\n",
       "      <td>33.770</td>\n",
       "      <td>1</td>\n",
       "      <td>7.453302</td>\n",
       "      <td>1</td>\n",
       "      <td>0</td>\n",
       "      <td>0</td>\n",
       "      <td>1</td>\n",
       "      <td>0</td>\n",
       "    </tr>\n",
       "    <tr>\n",
       "      <th>2</th>\n",
       "      <td>28</td>\n",
       "      <td>33.000</td>\n",
       "      <td>3</td>\n",
       "      <td>8.400538</td>\n",
       "      <td>1</td>\n",
       "      <td>0</td>\n",
       "      <td>0</td>\n",
       "      <td>1</td>\n",
       "      <td>0</td>\n",
       "    </tr>\n",
       "    <tr>\n",
       "      <th>3</th>\n",
       "      <td>33</td>\n",
       "      <td>22.705</td>\n",
       "      <td>0</td>\n",
       "      <td>9.998092</td>\n",
       "      <td>1</td>\n",
       "      <td>0</td>\n",
       "      <td>1</td>\n",
       "      <td>0</td>\n",
       "      <td>0</td>\n",
       "    </tr>\n",
       "    <tr>\n",
       "      <th>4</th>\n",
       "      <td>32</td>\n",
       "      <td>28.880</td>\n",
       "      <td>0</td>\n",
       "      <td>8.260197</td>\n",
       "      <td>1</td>\n",
       "      <td>0</td>\n",
       "      <td>1</td>\n",
       "      <td>0</td>\n",
       "      <td>0</td>\n",
       "    </tr>\n",
       "  </tbody>\n",
       "</table>\n",
       "</div>"
      ],
      "text/plain": [
       "   age     bmi  children  log_charges  sex_male  smoker_yes  region_northwest  \\\n",
       "0   19  27.900         0     9.734176         0           1                 0   \n",
       "1   18  33.770         1     7.453302         1           0                 0   \n",
       "2   28  33.000         3     8.400538         1           0                 0   \n",
       "3   33  22.705         0     9.998092         1           0                 1   \n",
       "4   32  28.880         0     8.260197         1           0                 1   \n",
       "\n",
       "   region_southeast  region_southwest  \n",
       "0                 0                 1  \n",
       "1                 1                 0  \n",
       "2                 1                 0  \n",
       "3                 0                 0  \n",
       "4                 0                 0  "
      ]
     },
     "execution_count": 19,
     "metadata": {},
     "output_type": "execute_result"
    }
   ],
   "source": [
    "df.head()"
   ]
  },
  {
   "cell_type": "markdown",
   "id": "bea93543",
   "metadata": {},
   "source": [
    "Now verify that we still don't have major multicollinearity issues with a heatmap. What we're looking for is that most of the correlations between independent variables should still be relatively low. There's no single cut-off value (much of this is as much an art as it is a science), but we'll say for our purposes here that we'll consider anything between -0.5 and 0.5 to be low.\n",
    "\n",
    "Note that if a variable is strongly correlated with our dependent variable `log_charges`, that's okay. If anything, that's probably a good thing!"
   ]
  },
  {
   "cell_type": "code",
   "execution_count": 20,
   "id": "cbd876f0",
   "metadata": {},
   "outputs": [
    {
     "data": {
      "image/png": "[encoded data removed]",
      "text/plain": [
       "<Figure size 640x480 with 2 Axes>"
      ]
     },
     "metadata": {},
     "output_type": "display_data"
    }
   ],
   "source": [
    "# correlation plot heatmap\n",
    "dataplot = sns.heatmap(df.corr(), cmap='BuGn', annot=True)\n",
    "plt.show()"
   ]
  },
  {
   "cell_type": "markdown",
   "id": "2a4a7d88",
   "metadata": {},
   "source": [
    "## Question 6\n",
    "After getting dummy variables from our categorical variables, how many independent variables do we have?"
   ]
  },
  {
   "cell_type": "code",
   "execution_count": 21,
   "id": "f491e152",
   "metadata": {},
   "outputs": [
    {
     "data": {
      "text/plain": [
       "Index(['age', 'bmi', 'children', 'log_charges', 'sex_male', 'smoker_yes',\n",
       "       'region_northwest', 'region_southeast', 'region_southwest'],\n",
       "      dtype='object')"
      ]
     },
     "execution_count": 21,
     "metadata": {},
     "output_type": "execute_result"
    }
   ],
   "source": [
    "# get number of independent variables\n",
    "df.columns.unique()"
   ]
  },
  {
   "cell_type": "markdown",
   "id": "e16fadca",
   "metadata": {},
   "source": [
    "Now separate our independent variables into a variable called `X`, and our target variable `log_charges` into a variable called `y`."
   ]
  },
  {
   "cell_type": "code",
   "execution_count": 22,
   "id": "9032f0ae",
   "metadata": {},
   "outputs": [],
   "source": [
    "# split up our variables\n",
    "X = df.drop('log_charges', axis=1)\n",
    "y = df['log_charges']"
   ]
  },
  {
   "cell_type": "code",
   "execution_count": 23,
   "id": "208e0d3f",
   "metadata": {},
   "outputs": [
    {
     "name": "stdout",
     "output_type": "stream",
     "text": [
      "(1338, 8)\n",
      "(1338,)\n"
     ]
    }
   ],
   "source": [
    "# the resulting shapes of X and y should be (1338, 8) and (1338,) respectively\n",
    "print(X.shape)\n",
    "print(y.shape)"
   ]
  },
  {
   "cell_type": "markdown",
   "id": "1e27a566",
   "metadata": {},
   "source": [
    "Now we need to split up our data into training and test data. Using scikit-learn's `train_test_split` function, using a `test_size` of 0.3 (i.e. 30% of data in test set), and **ensure that the random state is set to our seed from above**.\n",
    "\n",
    "Documentation for `train_test_split()` can be found here: https://scikit-learn.org/1.1/modules/generated/sklearn.model_selection.train_test_split.html"
   ]
  },
  {
   "cell_type": "code",
   "execution_count": 24,
   "id": "12bbb2e3",
   "metadata": {},
   "outputs": [],
   "source": [
    "# do the train test split\n",
    "X_train, X_test, y_train, y_test = train_test_split(X, y , test_size = 0.3, random_state=123)"
   ]
  },
  {
   "cell_type": "code",
   "execution_count": 25,
   "id": "1f70c945",
   "metadata": {},
   "outputs": [
    {
     "data": {
      "text/plain": [
       "((936, 8), (402, 8), (936,), (402,))"
      ]
     },
     "execution_count": 25,
     "metadata": {},
     "output_type": "execute_result"
    }
   ],
   "source": [
    "X_train.shape, X_test.shape, y_train.shape, y_test.shape"
   ]
  },
  {
   "cell_type": "markdown",
   "id": "699f120b",
   "metadata": {},
   "source": [
    "### Question 7\n",
    "What are the indexes for the first five data points in the training dataset after train_test_split?"
   ]
  },
  {
   "cell_type": "code",
   "execution_count": 26,
   "id": "31311d16",
   "metadata": {},
   "outputs": [
    {
     "data": {
      "text/html": [
       "<div>\n",
       "<style scoped>\n",
       "    .dataframe tbody tr th:only-of-type {\n",
       "        vertical-align: middle;\n",
       "    }\n",
       "\n",
       "    .dataframe tbody tr th {\n",
       "        vertical-align: top;\n",
       "    }\n",
       "\n",
       "    .dataframe thead th {\n",
       "        text-align: right;\n",
       "    }\n",
       "</style>\n",
       "<table border=\"1\" class=\"dataframe\">\n",
       "  <thead>\n",
       "    <tr style=\"text-align: right;\">\n",
       "      <th></th>\n",
       "      <th>age</th>\n",
       "      <th>bmi</th>\n",
       "      <th>children</th>\n",
       "      <th>sex_male</th>\n",
       "      <th>smoker_yes</th>\n",
       "      <th>region_northwest</th>\n",
       "      <th>region_southeast</th>\n",
       "      <th>region_southwest</th>\n",
       "    </tr>\n",
       "  </thead>\n",
       "  <tbody>\n",
       "    <tr>\n",
       "      <th>300</th>\n",
       "      <td>36</td>\n",
       "      <td>27.55</td>\n",
       "      <td>3</td>\n",
       "      <td>1</td>\n",
       "      <td>0</td>\n",
       "      <td>0</td>\n",
       "      <td>0</td>\n",
       "      <td>0</td>\n",
       "    </tr>\n",
       "    <tr>\n",
       "      <th>904</th>\n",
       "      <td>60</td>\n",
       "      <td>35.10</td>\n",
       "      <td>0</td>\n",
       "      <td>0</td>\n",
       "      <td>0</td>\n",
       "      <td>0</td>\n",
       "      <td>0</td>\n",
       "      <td>1</td>\n",
       "    </tr>\n",
       "    <tr>\n",
       "      <th>670</th>\n",
       "      <td>30</td>\n",
       "      <td>31.57</td>\n",
       "      <td>3</td>\n",
       "      <td>1</td>\n",
       "      <td>0</td>\n",
       "      <td>0</td>\n",
       "      <td>1</td>\n",
       "      <td>0</td>\n",
       "    </tr>\n",
       "    <tr>\n",
       "      <th>617</th>\n",
       "      <td>49</td>\n",
       "      <td>25.60</td>\n",
       "      <td>2</td>\n",
       "      <td>1</td>\n",
       "      <td>1</td>\n",
       "      <td>0</td>\n",
       "      <td>0</td>\n",
       "      <td>1</td>\n",
       "    </tr>\n",
       "    <tr>\n",
       "      <th>373</th>\n",
       "      <td>26</td>\n",
       "      <td>32.90</td>\n",
       "      <td>2</td>\n",
       "      <td>1</td>\n",
       "      <td>1</td>\n",
       "      <td>0</td>\n",
       "      <td>0</td>\n",
       "      <td>1</td>\n",
       "    </tr>\n",
       "  </tbody>\n",
       "</table>\n",
       "</div>"
      ],
      "text/plain": [
       "     age    bmi  children  sex_male  smoker_yes  region_northwest  \\\n",
       "300   36  27.55         3         1           0                 0   \n",
       "904   60  35.10         0         0           0                 0   \n",
       "670   30  31.57         3         1           0                 0   \n",
       "617   49  25.60         2         1           1                 0   \n",
       "373   26  32.90         2         1           1                 0   \n",
       "\n",
       "     region_southeast  region_southwest  \n",
       "300                 0                 0  \n",
       "904                 0                 1  \n",
       "670                 1                 0  \n",
       "617                 0                 1  \n",
       "373                 0                 1  "
      ]
     },
     "execution_count": 26,
     "metadata": {},
     "output_type": "execute_result"
    }
   ],
   "source": [
    "X_train.head()"
   ]
  },
  {
   "cell_type": "markdown",
   "id": "f6471b31",
   "metadata": {},
   "source": [
    "# Modelling and Evaluation\n",
    "Now we can make our model! Instantiate a LinearRegression model in scikit-learn, then fit the training data on it.\n",
    "\n",
    "Documentation for `LinearRegression()` can be found here: https://scikit-learn.org/1.1/modules/generated/sklearn.linear_model.LinearRegression.html"
   ]
  },
  {
   "cell_type": "code",
   "execution_count": 27,
   "id": "4bd8bbb6",
   "metadata": {},
   "outputs": [
    {
     "data": {
      "text/plain": [
       "LinearRegression(copy_X=True, fit_intercept=True, n_jobs=None, normalize=False)"
      ]
     },
     "execution_count": 27,
     "metadata": {},
     "output_type": "execute_result"
    }
   ],
   "source": [
    "# instantiate linear regression model and fit the training data to it\n",
    "lr = LinearRegression()\n",
    "lr.fit(X,y)"
   ]
  },
  {
   "cell_type": "code",
   "execution_count": 28,
   "id": "8c1aed74",
   "metadata": {},
   "outputs": [
    {
     "name": "stdout",
     "output_type": "stream",
     "text": [
      "intercept: 7.0306\n",
      "age: 0.0346\n",
      "bmi: 0.0134\n",
      "children: 0.1019\n",
      "sex_male: -0.0754\n",
      "smoker_yes: 1.5543\n",
      "region_northwest: -0.0638\n",
      "region_southeast: -0.1572\n",
      "region_southwest: -0.1290\n"
     ]
    }
   ],
   "source": [
    "# describe model\n",
    "print(f\"intercept: {lr.intercept_:.4f}\")\n",
    "for i in range(len(X_train.columns)):\n",
    "    print(f\"{X_train.columns[i]}: {lr.coef_[i]:.4f}\")"
   ]
  },
  {
   "cell_type": "markdown",
   "id": "8f5b3c51",
   "metadata": {},
   "source": [
    "Now we need to evaluate how our model did. Let's start by gathering some basic metrics on the training data (e.g. MAE, RMSE, R^2), then do the same on the test set."
   ]
  },
  {
   "cell_type": "code",
   "execution_count": 29,
   "id": "0890be25",
   "metadata": {},
   "outputs": [],
   "source": [
    "# predict training set values\n",
    "predictions_train =lr.predict(X_train)"
   ]
  },
  {
   "cell_type": "code",
   "execution_count": 30,
   "id": "baa11773",
   "metadata": {},
   "outputs": [],
   "source": [
    "# evaluate model R^2 (score)\n",
    "r2_train = r2_score(predictions_train, y_train)"
   ]
  },
  {
   "cell_type": "code",
   "execution_count": 31,
   "id": "d7c183b0",
   "metadata": {},
   "outputs": [],
   "source": [
    "# evaluate model MAE\n",
    "mae_train = mean_absolute_error(predictions_train,y_train)"
   ]
  },
  {
   "cell_type": "code",
   "execution_count": 32,
   "id": "490012e5",
   "metadata": {},
   "outputs": [
    {
     "name": "stdout",
     "output_type": "stream",
     "text": [
      "0.2080172818072451\n"
     ]
    }
   ],
   "source": [
    "# evaluate model RMSE\n",
    "rmse_train = mean_squared_error(predictions_train, y_train)\n",
    "print(rmse_train)"
   ]
  },
  {
   "cell_type": "code",
   "execution_count": 33,
   "id": "2a9a4606",
   "metadata": {},
   "outputs": [
    {
     "name": "stdout",
     "output_type": "stream",
     "text": [
      "metrics for training data\n",
      "R^2 score : 0.6863\n",
      "mae       : 0.2841\n",
      "rmse      : 0.2080\n"
     ]
    }
   ],
   "source": [
    "# print metrics\n",
    "print(\"metrics for training data\")\n",
    "print(f\"R^2 score : {r2_train:.4f}\")\n",
    "print(f\"mae       : {mae_train:.4f}\")\n",
    "print(f\"rmse      : {rmse_train:.4f}\")"
   ]
  },
  {
   "cell_type": "code",
   "execution_count": 34,
   "id": "d0ec8da3",
   "metadata": {},
   "outputs": [
    {
     "data": {
      "image/png": "[encoded data removed]",
      "text/plain": [
       "<Figure size 640x480 with 1 Axes>"
      ]
     },
     "metadata": {},
     "output_type": "display_data"
    }
   ],
   "source": [
    "# plot predictions against actual values\n",
    "plt.scatter(y_train, predictions_train)\n",
    "plt.title(\"training dataset\")\n",
    "plt.xlabel(\"actual\")\n",
    "plt.ylabel(\"predicted\")\n",
    "plt.gca().axline([7, 7], [11, 11], color=\"red\")\n",
    "plt.grid()"
   ]
  },
  {
   "cell_type": "markdown",
   "id": "8be17be4",
   "metadata": {},
   "source": [
    "Clearly, while our model has clearly learned something about the data, there is still room for improvement.\n",
    "\n",
    "Now we're going to evaluate our model's performance on the test set. First, we need to make our model predict the values for the test set."
   ]
  },
  {
   "cell_type": "code",
   "execution_count": 35,
   "id": "495aa304",
   "metadata": {},
   "outputs": [
    {
     "data": {
      "text/plain": [
       "age                 19.000000\n",
       "bmi                 30.590000\n",
       "children             0.000000\n",
       "log_charges          7.402185\n",
       "sex_male             1.000000\n",
       "smoker_yes           0.000000\n",
       "region_northwest     1.000000\n",
       "region_southeast     0.000000\n",
       "region_southwest     0.000000\n",
       "Name: 195, dtype: float64"
      ]
     },
     "execution_count": 35,
     "metadata": {},
     "output_type": "execute_result"
    }
   ],
   "source": [
    "df.loc[195]"
   ]
  },
  {
   "cell_type": "code",
   "execution_count": 36,
   "id": "8bf92b36",
   "metadata": {},
   "outputs": [
    {
     "data": {
      "text/plain": [
       "age                 19.000000\n",
       "bmi                 30.590000\n",
       "children             0.000000\n",
       "log_charges          7.402185\n",
       "sex_male             1.000000\n",
       "smoker_yes           0.000000\n",
       "region_northwest     1.000000\n",
       "region_southeast     0.000000\n",
       "region_southwest     0.000000\n",
       "Name: 581, dtype: float64"
      ]
     },
     "execution_count": 36,
     "metadata": {},
     "output_type": "execute_result"
    }
   ],
   "source": [
    "df.loc[581]"
   ]
  },
  {
   "cell_type": "code",
   "execution_count": 37,
   "id": "79fe112f",
   "metadata": {},
   "outputs": [],
   "source": [
    "# make predictions on test set\n",
    "predictions_test = lr.predict(X_test)"
   ]
  },
  {
   "cell_type": "code",
   "execution_count": 38,
   "id": "e89d084d",
   "metadata": {},
   "outputs": [],
   "source": [
    "# get same metrics as before - R^2, MAE, RMSE\n",
    "r2_test = r2_score(predictions_test, y_test)\n",
    "mae_test = mean_absolute_error(predictions_test, y_test)\n",
    "rmse_test = mean_squared_error(predictions_test, y_test)"
   ]
  },
  {
   "cell_type": "code",
   "execution_count": 39,
   "id": "1e14094c",
   "metadata": {},
   "outputs": [
    {
     "name": "stdout",
     "output_type": "stream",
     "text": [
      "metrics for test data\n",
      "R^2 score : 0.7257\n",
      "mae       : 0.2624\n",
      "rmse      : 0.1682\n"
     ]
    }
   ],
   "source": [
    "# print metrics\n",
    "print(\"metrics for test data\")\n",
    "print(f\"R^2 score : {r2_test:.4f}\")\n",
    "print(f\"mae       : {mae_test:.4f}\")\n",
    "print(f\"rmse      : {rmse_test:.4f}\")"
   ]
  },
  {
   "cell_type": "code",
   "execution_count": 40,
   "id": "375ff832",
   "metadata": {
    "scrolled": false
   },
   "outputs": [
    {
     "data": {
      "image/png": "[encoded data removed]",
      "text/plain": [
       "<Figure size 640x480 with 1 Axes>"
      ]
     },
     "metadata": {},
     "output_type": "display_data"
    }
   ],
   "source": [
    "# plot predictions against actual values\n",
    "plt.scatter(y_test, predictions_test)\n",
    "plt.title(\"test dataset\")\n",
    "plt.xlabel(\"actual\")\n",
    "plt.ylabel(\"predicted\")\n",
    "plt.gca().axline([7, 7], [11, 11], color=\"red\")\n",
    "plt.grid()"
   ]
  },
  {
   "cell_type": "markdown",
   "id": "1ee37313",
   "metadata": {},
   "source": [
    "## Question 8\n",
    "Are the residuals normally distributed?"
   ]
  },
  {
   "cell_type": "code",
   "execution_count": 41,
   "id": "7a308e26",
   "metadata": {},
   "outputs": [
    {
     "data": {
      "image/png": "[encoded data removed]",
      "text/plain": [
       "<Figure size 2000x1500 with 1 Axes>"
      ]
     },
     "metadata": {},
     "output_type": "display_data"
    }
   ],
   "source": [
    "# plot residuals to determine if they are normally distributed\n",
    "plt.figure(figsize=(20,15))\n",
    "plt.subplot(3,3,1)\n",
    "plt.hist(df.log_charges, color='lightblue', edgecolor='black', alpha = 0.7)\n",
    "plt.xlabel('log_charges')\n",
    "\n",
    "plt.show()"
   ]
  },
  {
   "cell_type": "markdown",
   "id": "b28e638b",
   "metadata": {},
   "source": [
    "Now, let's take a step back. We know that we took the log of `charges` in order to make it closer to a normal distribution. While this is helpful for our modelling, at the end of the day we want to predict the actual insurance charges, not the log of them.\n",
    "\n",
    "## Question 9\n",
    "What are the predicted insurance charges for index 650 (the first row in the test dataset), rounded to 2 decimal places (i.e. nearest cent)?"
   ]
  },
  {
   "cell_type": "code",
   "execution_count": 42,
   "id": "22a7c96e",
   "metadata": {},
   "outputs": [
    {
     "data": {
      "text/plain": [
       "Index(['age', 'bmi', 'children', 'log_charges', 'sex_male', 'smoker_yes',\n",
       "       'region_northwest', 'region_southeast', 'region_southwest'],\n",
       "      dtype='object')"
      ]
     },
     "execution_count": 42,
     "metadata": {},
     "output_type": "execute_result"
    }
   ],
   "source": [
    "df.columns"
   ]
  },
  {
   "cell_type": "code",
   "execution_count": 43,
   "id": "96a5c785",
   "metadata": {},
   "outputs": [
    {
     "data": {
      "text/plain": [
       "array([49.  , 42.68,  2.  ,  0.  ,  0.  ,  0.  ,  1.  ,  0.  ])"
      ]
     },
     "execution_count": 43,
     "metadata": {},
     "output_type": "execute_result"
    }
   ],
   "source": [
    "np.array(X_test.loc[650])"
   ]
  },
  {
   "cell_type": "code",
   "execution_count": 44,
   "id": "374bbf89",
   "metadata": {},
   "outputs": [],
   "source": [
    "# get predicted insurance charge for index 650\n",
    "a = lr.predict([[49, 42.68,  2,  0 ,  0 ,  0 ,  1,  0  ]])"
   ]
  },
  {
   "cell_type": "code",
   "execution_count": 45,
   "id": "87c441d3",
   "metadata": {},
   "outputs": [
    {
     "name": "stdout",
     "output_type": "stream",
     "text": [
      "predicted insurance charges: [9.34241286]\n"
     ]
    }
   ],
   "source": [
    "# get the predicted insuraance charges\n",
    "print(f\"predicted insurance charges:\", a)"
   ]
  },
  {
   "cell_type": "markdown",
   "id": "e3950fbf",
   "metadata": {},
   "source": [
    "# Discussion\n",
    "While our model has learned some of the relationships from the data, it is still imperfect. What else could we do to improve it? Here are some possibilities:\n",
    "1. We did not normalize/standardize our data, which could result in larger numeric variables (e.g. age) having a larger impact on the final result than smaller numeric variables (e.g. children). For more on normalization and standardization, check out [this resource](https://www.analyticsvidhya.com/blog/2020/04/feature-scaling-machine-learning-normalization-standardization/).\n",
    "2. As our region dummy variables seem somewhat negatively correlated with each other, perhaps we may have issues with multicollinearity. So we could try encoding the region variable differently, separating into just 2 variables, one for north/south and the other for east/west.\n",
    "3. Perhaps some of the variables interact with each other. We could try adding additional features covering such interactions (e.g. smoking & sex, region & bmi, etc.). Check out [this resource for more information on interaction effects](https://stattrek.com/multiple-regression/interaction).\n",
    "4. Instead of normalizing our `charges` value by taking the log of it, we could do a Box-Cox transformation instead. Check out [this resource for more on Box-Cox transformation](https://towardsdatascience.com/box-cox-transformation-explained-51d745e34203).\n",
    "\n",
    "Implementing any of the suggested potential improvements to the model are left as an exercise to the reader ;)\n",
    "\n",
    "# Prepare your Submission\n",
    "Congratulations, you made it to the end of this lesson! Be sure to complete the remaining few quiz questions, and prepare your submission:\n",
    "1. Replace the value of the `NAME` variable with your StackUp name.\n",
    "2. Edit the last cell in the notebook so that it reflects the requested data, rather than the placeholder values below. Make sure you read what it is asking for, and replicate all the features of it - this includes axis labels, which charts go where, etc.  \n",
    "3. Restart your notebook, then run it from start to end.\n",
    "4. Take a screenshot of the output from the last cell in this notebook. Make sure your screenshot shows your taskbar/dock (i.e. take a screenshot of the whole screen, not just the window).\n",
    "\n",
    "e.g. This section of code currently produces placeholder values:  \n",
    "\n",
    "```print(f\"Predicted insurance charges: {np.random.random()*10000:.2f}\")```\n",
    "\n",
    "You must replace `np.random.random()*10000` so that it reflects the value you obtained for the predicted insurance charge of index 650."
   ]
  },
  {
   "cell_type": "code",
   "execution_count": 46,
   "id": "2c10abe3",
   "metadata": {},
   "outputs": [],
   "source": [
    "# replace this with your StackUp name\n",
    "NAME = \"ronihs\""
   ]
  },
  {
   "cell_type": "code",
   "execution_count": 47,
   "id": "3bf59d0e",
   "metadata": {},
   "outputs": [
    {
     "name": "stdout",
     "output_type": "stream",
     "text": [
      "Name                : ronihs\n",
      "intercept           : 0.6965\n",
      "age                 : -0.4277\n",
      "bmi                 : -0.5463\n",
      "children            : 0.1026\n",
      "sex_male            : 0.4389\n",
      "smoker_yes          : -0.1538\n",
      "region_northwest    : 0.9615\n",
      "region_southeast    : 0.3697\n",
      "region_southwest    : -0.0381\n",
      "------------------------\n",
      "Predicted insurance charges: 3921.18\n"
     ]
    },
    {
     "data": {
      "image/png": "[encoded data removed]",
      "text/plain": [
       "<Figure size 1000x500 with 2 Axes>"
      ]
     },
     "metadata": {},
     "output_type": "display_data"
    }
   ],
   "source": [
    "# run this cell, then take a screenshot of the result\n",
    "print(f\"{'Name':<20}: {NAME}\")\n",
    "# describe model\n",
    "print(f\"{'intercept':<20}: {np.random.random():.4f}\")\n",
    "for col in X_train.columns:\n",
    "    print(f\"{col:<20}: {np.random.random()*2-1:.4f}\")\n",
    "print(\"---\"*8)\n",
    "# get predicted insurance charge for index 650\n",
    "print(f\"Predicted insurance charges: {np.random.random()*10000:.2f}\")\n",
    "\n",
    "fig, (ax1, ax2) = plt.subplots(1, 2)\n",
    "fig.set_size_inches(10,5)\n",
    "\n",
    "# draw plots for test set\n",
    "# ax1 - scatter plot of predictions vs actual\n",
    "ax1.scatter(y_test, np.random.random(y_test.shape)*4+7.5)\n",
    "ax1.axline([7, 7], [11, 11], color=\"red\")\n",
    "ax1.set_title(\"test set\")\n",
    "ax1.set_xlabel(\"actual\")\n",
    "ax1.set_ylabel(\"predicted\")\n",
    "\n",
    "# ax2 - residuals plot\n",
    "sns.histplot(np.random.normal(size=1000), bins=50, kde=True, ax=ax2)\n",
    "\n",
    "plt.show()"
   ]
  },
  {
   "cell_type": "code",
   "execution_count": null,
   "id": "4915fbd1",
   "metadata": {},
   "outputs": [],
   "source": []
  },
  {
   "cell_type": "code",
   "execution_count": null,
   "id": "31ab0a8b",
   "metadata": {},
   "outputs": [],
   "source": []
  }
 ],
 "metadata": {
  "kernelspec": {
   "display_name": "Python [conda env:RHML]",
   "language": "python",
   "name": "conda-env-RHML-py"
  },
  "language_info": {
   "codemirror_mode": {
    "name": "ipython",
    "version": 3
   },
   "file_extension": ".py",
   "mimetype": "text/x-python",
   "name": "python",
   "nbconvert_exporter": "python",
   "pygments_lexer": "ipython3",
   "version": "3.7.6"
  }
 },
 "nbformat": 4,
 "nbformat_minor": 5
}
